{
 "cells": [
  {
   "cell_type": "markdown",
   "id": "501f7c85",
   "metadata": {},
   "source": [
    "# Bash 101 – 2-Hour Interactive Course"
   ]
  },
  {
   "cell_type": "markdown",
   "id": "41e49c0f",
   "metadata": {},
   "source": [
    "Bash stands for \"Bourne Again SHell\", and it’s a command-line interpreter or \"shell\" used in Linux and macOS systems.It lets you interact with your operating system using text commands instead of clicking menus.Bash can run simple commands (like ls to list files) or entire scripts that automate tasks. You can use Bash scripts to automate things like backups, software installations, or log analysis. It understands variables, loops (for, while), conditions (if, else), and functions—just like a basic programming language. It’s commonly used by system administrators, DevOps engineers, and developers to save time. Bash is the default shell in many systems, but there are others too like zsh, fish, and sh."
   ]
  },
  {
   "cell_type": "markdown",
   "id": "5e7b12e5",
   "metadata": {},
   "source": [
    "A shebang is the line at the top of a script that tells the system what program to use to run the file.\n",
    "It looks like this: #!/bin/bash — this means \"use the Bash interpreter to run this script\"."
   ]
  },
  {
   "cell_type": "markdown",
   "id": "d3a9d4b6",
   "metadata": {},
   "source": [
    "❓ Why do we need the shebang?\n",
    "Without the shebang, the system might not know how to interpret your script, especially if it's being run from outside a terminal (like as a scheduled job or from a GUI). It ensures the script uses the correct shell, regardless of the user’s environment."
   ]
  },
  {
   "cell_type": "code",
   "execution_count": 1,
   "id": "b6f3a0f1",
   "metadata": {},
   "outputs": [
    {
     "name": "stdout",
     "output_type": "stream",
     "text": [
      "Hello, Bash world!\n"
     ]
    }
   ],
   "source": [
    "%%bash\n",
    "echo \"Hello, Bash world!\""
   ]
  },
  {
   "cell_type": "markdown",
   "id": "57bf0dfd",
   "metadata": {},
   "source": [
    "# The man page\n",
    "![RTFM](rtfm.png \"RTFM\")"
   ]
  },
  {
   "cell_type": "markdown",
   "id": "59835a3c",
   "metadata": {},
   "source": [
    "## Filesystem commands\n",
    "Let's try some basic commands like `pwd`, `ls`, `cd`, and `mkdir`."
   ]
  },
  {
   "cell_type": "code",
   "execution_count": 2,
   "id": "5831a6e2",
   "metadata": {},
   "outputs": [
    {
     "name": "stdout",
     "output_type": "stream",
     "text": [
      "/Users/nanchmar/Downloads\n",
      "total 1429168\n",
      "drwx------@ 36 nanchmar  staff       1152 Apr 10 09:34 \u001b[1m\u001b[36m.\u001b[m\u001b[m\n",
      "drwx------+ 47 nanchmar  staff       1504 Apr 10 09:33 \u001b[1m\u001b[36m..\u001b[m\u001b[m\n",
      "-rw-r--r--@  1 nanchmar  staff       6148 Apr 10 07:05 .DS_Store\n",
      "-rw-------@  1 nanchmar  staff      17211 Mar 26 07:21 .com.google.Chrome.Gsiv2p\n",
      "-rw-r--r--   1 nanchmar  staff          0 Mar 20 11:41 .localized\n",
      "-rw-r--r--@  1 nanchmar  staff      87082 Apr 10 07:04 0rqnymr4cce61.webp\n",
      "-rw-r--r--   1 nanchmar  staff          0 Apr 10 09:34 5\n",
      "-rw-r--r--@  1 nanchmar  staff       5726 Apr 10 07:54 Bash_101.ipynb\n",
      "-rw-r--r--@  1 nanchmar  staff     116646 Apr  9 04:25 DataAnalytics AWS Access Audit - 2025-03-07.xlsx\n",
      "-rw-r--r--@  1 nanchmar  staff     145408 Mar 26 14:20 MCE - UAT Privatelink DOC.doc\n",
      "-rw-r--r--@  1 nanchmar  staff     231880 Apr  2 16:08 The_Zen_of_Python_illustrated.png\n",
      "-rw-r--r--@  1 nanchmar  staff     265277 Apr  4 08:13 Theinterplaybetweenquantumenergyandinsulinresistance.pdf\n",
      "-rw-r--r--@  1 nanchmar  staff  118465940 Apr  9 14:01 amazon-cloudwatch-agent.rpm\n",
      "drwx------@  8 nanchmar  staff        256 Apr  9 19:52 \u001b[1m\u001b[36marchive\u001b[m\u001b[m\n",
      "-rw-r--r--@  1 nanchmar  staff  146211191 Apr  7 11:41 archive (1).zip\n",
      "-rw-r--r--@  1 nanchmar  staff   10062133 Apr  2 12:44 archive 2.zip\n",
      "-rw-r--r--   1 nanchmar  staff   10062171 Apr  2 13:11 archive 3.zip\n",
      "-rw-r--r--@  1 nanchmar  staff  146211191 Apr  1 18:13 archive.zip\n",
      "-rw-r--r--@  1 nanchmar  staff   68286133 Apr  9 14:00 awscli-exe-linux-x86_64 (1).zip\n",
      "-rw-r--r--@  1 nanchmar  staff   68286133 Apr  9 14:00 awscli-exe-linux-x86_64.zip\n",
      "-rw-r--r--@  1 nanchmar  staff      10333 Mar 26 11:46 azure-dwn-to-cwan-vpn-config-sample.txt\n",
      "drwx------@  2 nanchmar  staff         64 Apr  1 17:41 \u001b[1m\u001b[36mccoeCustomPermissionSets\u001b[m\u001b[m\n",
      "-rw-r--r--@  1 nanchmar  staff    1365553 Mar 31 12:21 class.png\n",
      "-rw-r--r--@  1 nanchmar  staff    1519893 Mar 31 15:37 class2.png\n",
      "-rw-r--r--@  1 nanchmar  staff      10829 Mar 31 10:07 conditions_loops_functions (1).drawio\n",
      "-rw-r--r--@  1 nanchmar  staff      10829 Mar 31 10:05 conditions_loops_functions.drawio\n",
      "-rw-r--r--@  1 nanchmar  staff    1369336 Mar 31 11:25 dict.png\n",
      "-rw-r--r--@  1 nanchmar  staff   86209018 Apr  7 11:41 dns_queries.txt\n",
      "-rw-r--r--@  1 nanchmar  staff    1110597 Apr  1 09:40 flutter-aws-pipeline-2025-full.pdf\n",
      "-rw-r--r--@  1 nanchmar  staff      10829 Mar 31 10:07 garbage (1).drawio\n",
      "-rw-r--r--@  1 nanchmar  staff      10829 Mar 31 10:05 garbage.drawio\n",
      "-rw-r--r--@  1 nanchmar  staff     125396 Mar 27 10:39 image.png\n",
      "-rw-r--r--@  1 nanchmar  staff        621 Mar 24 14:20 network_description.sh\n",
      "-rw-r--r--@  1 nanchmar  staff   71085645 Mar 25 14:29 python-3.13.2-macos11.pkg\n",
      "-rw-r--r--@  1 nanchmar  staff     366336 Apr 10 07:05 rtfm.png\n",
      "drwxr-xr-x   3 nanchmar  staff         96 Apr 10 09:31 \u001b[1m\u001b[36mtest_folder\u001b[m\u001b[m\n",
      "test.txt\n"
     ]
    }
   ],
   "source": [
    "%%bash\n",
    "pwd\n",
    "ls -la\n",
    "mkdir -p test_folder\n",
    "cd test_folder && touch test.txt && ls"
   ]
  },
  {
   "cell_type": "markdown",
   "id": "78f0b36a",
   "metadata": {},
   "source": [
    "## Variables and Input"
   ]
  },
  {
   "cell_type": "code",
   "execution_count": 3,
   "id": "dbaef67f",
   "metadata": {},
   "outputs": [
    {
     "name": "stdout",
     "output_type": "stream",
     "text": [
      "Hello Martin\n"
     ]
    }
   ],
   "source": [
    "%%bash\n",
    "name=\"Martin\"\n",
    "echo \"Hello $name\"\n",
    "read -p \"Enter your name: \" user\n",
    "echo \"Welcome, $user!\""
   ]
  },
  {
   "cell_type": "markdown",
   "id": "2e7fbe57",
   "metadata": {},
   "source": [
    "## Conditions"
   ]
  },
  {
   "cell_type": "code",
   "execution_count": 4,
   "id": "56863bb4",
   "metadata": {},
   "outputs": [
    {
     "name": "stdout",
     "output_type": "stream",
     "text": [
      "Number 10 is greateer than 5\n"
     ]
    }
   ],
   "source": [
    "%%bash\n",
    "number=10\n",
    "if [ $number > 5 ]; then\n",
    "  echo \"Number $number is greateer than 5\"\n",
    "else \n",
    "  echo \"Number is smaller than 5\"\n",
    "fi"
   ]
  },
  {
   "cell_type": "markdown",
   "id": "2bfc3708",
   "metadata": {},
   "source": [
    "## Loops and sequence, arrays arr[@]"
   ]
  },
  {
   "cell_type": "code",
   "execution_count": 5,
   "id": "aa2217ee",
   "metadata": {},
   "outputs": [
    {
     "name": "stdout",
     "output_type": "stream",
     "text": [
      "Count: 1\n",
      "Count: 2\n",
      "Count: 3\n",
      "Count: 4\n",
      "Count: 5\n"
     ]
    }
   ],
   "source": [
    "%%bash\n",
    "for i in {1..5}; do\n",
    "  echo \"Count: $i\"\n",
    "done"
   ]
  },
  {
   "cell_type": "code",
   "execution_count": 6,
   "id": "f49c0413",
   "metadata": {},
   "outputs": [
    {
     "name": "stdout",
     "output_type": "stream",
     "text": [
      "Count is 1\n",
      "Count is 2\n",
      "Count is 3\n",
      "Count is 4\n",
      "Count is 5\n"
     ]
    }
   ],
   "source": [
    "%%bash\n",
    "count=1\n",
    "while [ $count -le 5 ]; do\n",
    "  echo \"Count is $count\"\n",
    "  ((count++)) \n",
    "done"
   ]
  },
  {
   "cell_type": "markdown",
   "id": "6a363192",
   "metadata": {},
   "source": [
    "Functions and Script Arguments"
   ]
  },
  {
   "cell_type": "code",
   "execution_count": 7,
   "id": "394b2d86",
   "metadata": {},
   "outputs": [
    {
     "name": "stdout",
     "output_type": "stream",
     "text": [
      "Hello, Martin!\n"
     ]
    }
   ],
   "source": [
    "%%bash\n",
    "greet() {\n",
    "  echo \"Hello, $1!\"\n",
    "}\n",
    "greet Martin"
   ]
  },
  {
   "cell_type": "markdown",
   "id": "a790b633",
   "metadata": {},
   "source": [
    "## Real-World Mini Project: Backup Script"
   ]
  },
  {
   "cell_type": "code",
   "execution_count": 8,
   "id": "2e5034a6",
   "metadata": {},
   "outputs": [
    {
     "name": "stderr",
     "output_type": "stream",
     "text": [
      "tar: Removing leading '/' from member names\n",
      "tar: Could not pack extended attributes: Operation not permitted\n",
      ": Can't add archive to itselftar: /Users/nanchmar/.Trash: Couldn't visit directory: Unknown error: -1\n",
      "tar: Error exit delayed from previous errors.\n"
     ]
    },
    {
     "name": "stdout",
     "output_type": "stream",
     "text": [
      "Backup created at /Users/nanchmar/backups/backup_20250410093436.tar.gz\n"
     ]
    }
   ],
   "source": [
    "%%bash\n",
    "#!/bin/bash\n",
    "SOURCE_DIR=\"$HOME\"\n",
    "BACKUP_DIR=\"$HOME/backups\"\n",
    "TIMESTAMP=$(date +%Y%m%d%H%M%S)\n",
    "BACKUP_FILE=\"$BACKUP_DIR/backup_$TIMESTAMP.tar.gz\"\n",
    "\n",
    "mkdir -p \"$BACKUP_DIR\"\n",
    "tar -czf \"$BACKUP_FILE\" \"$SOURCE_DIR\"\n",
    "echo \"Backup created at $BACKUP_FILE\""
   ]
  },
  {
   "cell_type": "code",
   "execution_count": 9,
   "id": "5ec99b7d",
   "metadata": {},
   "outputs": [
    {
     "name": "stderr",
     "output_type": "stream",
     "text": [
      "jq: error: Could not open file file.json: No such file or directory\n"
     ]
    },
    {
     "ename": "CalledProcessError",
     "evalue": "Command 'b'jq \\'to_entries[] | select(.value.salary < 4000 and (.value.technologies | index(\"SQL\"))) | .key\\' file.json\\n'' returned non-zero exit status 2.",
     "output_type": "error",
     "traceback": [
      "\u001b[31m---------------------------------------------------------------------------\u001b[39m",
      "\u001b[31mCalledProcessError\u001b[39m                        Traceback (most recent call last)",
      "\u001b[36mCell\u001b[39m\u001b[36m \u001b[39m\u001b[32mIn[9]\u001b[39m\u001b[32m, line 1\u001b[39m\n\u001b[32m----> \u001b[39m\u001b[32m1\u001b[39m \u001b[43mget_ipython\u001b[49m\u001b[43m(\u001b[49m\u001b[43m)\u001b[49m\u001b[43m.\u001b[49m\u001b[43mrun_cell_magic\u001b[49m\u001b[43m(\u001b[49m\u001b[33;43m'\u001b[39;49m\u001b[33;43mbash\u001b[39;49m\u001b[33;43m'\u001b[39;49m\u001b[43m,\u001b[49m\u001b[43m \u001b[49m\u001b[33;43m'\u001b[39;49m\u001b[33;43m'\u001b[39;49m\u001b[43m,\u001b[49m\u001b[43m \u001b[49m\u001b[33;43m'\u001b[39;49m\u001b[33;43mjq \u001b[39;49m\u001b[38;5;130;43;01m\\'\u001b[39;49;00m\u001b[33;43mto_entries[] | select(.value.salary < 4000 and (.value.technologies | index(\u001b[39;49m\u001b[33;43m\"\u001b[39;49m\u001b[33;43mSQL\u001b[39;49m\u001b[33;43m\"\u001b[39;49m\u001b[33;43m))) | .key\u001b[39;49m\u001b[38;5;130;43;01m\\'\u001b[39;49;00m\u001b[33;43m file.json\u001b[39;49m\u001b[38;5;130;43;01m\\n\u001b[39;49;00m\u001b[33;43m'\u001b[39;49m\u001b[43m)\u001b[49m\n",
      "\u001b[36mFile \u001b[39m\u001b[32m~/Library/Python/3.13/lib/python/site-packages/IPython/core/interactiveshell.py:2547\u001b[39m, in \u001b[36mInteractiveShell.run_cell_magic\u001b[39m\u001b[34m(self, magic_name, line, cell)\u001b[39m\n\u001b[32m   2545\u001b[39m \u001b[38;5;28;01mwith\u001b[39;00m \u001b[38;5;28mself\u001b[39m.builtin_trap:\n\u001b[32m   2546\u001b[39m     args = (magic_arg_s, cell)\n\u001b[32m-> \u001b[39m\u001b[32m2547\u001b[39m     result = \u001b[43mfn\u001b[49m\u001b[43m(\u001b[49m\u001b[43m*\u001b[49m\u001b[43margs\u001b[49m\u001b[43m,\u001b[49m\u001b[43m \u001b[49m\u001b[43m*\u001b[49m\u001b[43m*\u001b[49m\u001b[43mkwargs\u001b[49m\u001b[43m)\u001b[49m\n\u001b[32m   2549\u001b[39m \u001b[38;5;66;03m# The code below prevents the output from being displayed\u001b[39;00m\n\u001b[32m   2550\u001b[39m \u001b[38;5;66;03m# when using magics with decorator @output_can_be_silenced\u001b[39;00m\n\u001b[32m   2551\u001b[39m \u001b[38;5;66;03m# when the last Python token in the expression is a ';'.\u001b[39;00m\n\u001b[32m   2552\u001b[39m \u001b[38;5;28;01mif\u001b[39;00m \u001b[38;5;28mgetattr\u001b[39m(fn, magic.MAGIC_OUTPUT_CAN_BE_SILENCED, \u001b[38;5;28;01mFalse\u001b[39;00m):\n",
      "\u001b[36mFile \u001b[39m\u001b[32m~/Library/Python/3.13/lib/python/site-packages/IPython/core/magics/script.py:159\u001b[39m, in \u001b[36mScriptMagics._make_script_magic.<locals>.named_script_magic\u001b[39m\u001b[34m(line, cell)\u001b[39m\n\u001b[32m    157\u001b[39m \u001b[38;5;28;01melse\u001b[39;00m:\n\u001b[32m    158\u001b[39m     line = script\n\u001b[32m--> \u001b[39m\u001b[32m159\u001b[39m \u001b[38;5;28;01mreturn\u001b[39;00m \u001b[38;5;28;43mself\u001b[39;49m\u001b[43m.\u001b[49m\u001b[43mshebang\u001b[49m\u001b[43m(\u001b[49m\u001b[43mline\u001b[49m\u001b[43m,\u001b[49m\u001b[43m \u001b[49m\u001b[43mcell\u001b[49m\u001b[43m)\u001b[49m\n",
      "\u001b[36mFile \u001b[39m\u001b[32m~/Library/Python/3.13/lib/python/site-packages/IPython/core/magics/script.py:336\u001b[39m, in \u001b[36mScriptMagics.shebang\u001b[39m\u001b[34m(self, line, cell)\u001b[39m\n\u001b[32m    331\u001b[39m \u001b[38;5;28;01mif\u001b[39;00m args.raise_error \u001b[38;5;129;01mand\u001b[39;00m p.returncode != \u001b[32m0\u001b[39m:\n\u001b[32m    332\u001b[39m     \u001b[38;5;66;03m# If we get here and p.returncode is still None, we must have\u001b[39;00m\n\u001b[32m    333\u001b[39m     \u001b[38;5;66;03m# killed it but not yet seen its return code. We don't wait for it,\u001b[39;00m\n\u001b[32m    334\u001b[39m     \u001b[38;5;66;03m# in case it's stuck in uninterruptible sleep. -9 = SIGKILL\u001b[39;00m\n\u001b[32m    335\u001b[39m     rc = p.returncode \u001b[38;5;129;01mor\u001b[39;00m -\u001b[32m9\u001b[39m\n\u001b[32m--> \u001b[39m\u001b[32m336\u001b[39m     \u001b[38;5;28;01mraise\u001b[39;00m CalledProcessError(rc, cell)\n",
      "\u001b[31mCalledProcessError\u001b[39m: Command 'b'jq \\'to_entries[] | select(.value.salary < 4000 and (.value.technologies | index(\"SQL\"))) | .key\\' file.json\\n'' returned non-zero exit status 2."
     ]
    }
   ],
   "source": [
    "%%bash\n",
    "jq 'to_entries[] | select(.value.salary < 4000 and (.value.technologies | index(\"SQL\"))) | .key' file.json"
   ]
  },
  {
   "cell_type": "markdown",
   "id": "8d4d86ad",
   "metadata": {},
   "source": [
    "## Final Tips\n",
    "- Use `bash -x script.sh` to debug\n",
    "- Use [ShellCheck](https://www.shellcheck.net/) to validate scripts\n",
    "\n",
    "\n",
    "Happy scripting! 🎉"
   ]
  }
 ],
 "metadata": {
  "kernelspec": {
   "display_name": "Python 3",
   "language": "python",
   "name": "python3"
  },
  "language_info": {
   "codemirror_mode": {
    "name": "ipython",
    "version": 3
   },
   "file_extension": ".py",
   "mimetype": "text/x-python",
   "name": "python",
   "nbconvert_exporter": "python",
   "pygments_lexer": "ipython3",
   "version": "3.13.2"
  }
 },
 "nbformat": 4,
 "nbformat_minor": 5
}
