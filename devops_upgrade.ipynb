{
 "cells": [
  {
   "metadata": {},
   "cell_type": "markdown",
   "source": [
    "# System design principles\n",
    "![System design](system_design.png \"System design\")"
   ],
   "id": "9c6f7c45336779d7"
  },
  {
   "metadata": {
    "ExecuteTime": {
     "end_time": "2025-04-02T13:16:43.075311Z",
     "start_time": "2025-04-02T13:16:43.063735Z"
    }
   },
   "cell_type": "code",
   "source": [
    "# Principles of Python\n",
    "import this"
   ],
   "id": "ea7e78d59fa0f688",
   "outputs": [],
   "execution_count": 83
  },
  {
   "metadata": {},
   "cell_type": "markdown",
   "source": [
    "# Variables and Types\n",
    "![Variables inside python3](garbage.png \"Variables\")"
   ],
   "id": "8a77807f92f26ee"
  },
  {
   "metadata": {
    "ExecuteTime": {
     "end_time": "2025-04-02T13:16:43.094449Z",
     "start_time": "2025-04-02T13:16:43.090726Z"
    }
   },
   "cell_type": "code",
   "source": [
    "import inspect\n",
    "import math\n",
    "\n",
    "\n",
    "age = \"20\"\n",
    "print(f\"Type of age is: {type(age)}\")\n",
    "age = 20\n",
    "print(f\"Type of age is: {type(age)}\")\n",
    "checkEngineLight=True\n",
    "print(f\"Type of checkEngineLight is: {type(checkEngineLight)}\")\n",
    "print(f\"Type of pi is {type(math.pi)}\")"
   ],
   "id": "fbc121e30a2defb3",
   "outputs": [
    {
     "name": "stdout",
     "output_type": "stream",
     "text": [
      "Type of age is: <class 'str'>\n",
      "Type of age is: <class 'int'>\n",
      "Type of checkEngineLight is: <class 'bool'>\n",
      "Type of pi is <class 'float'>\n"
     ]
    }
   ],
   "execution_count": 84
  },
  {
   "metadata": {},
   "cell_type": "markdown",
   "source": [
    "## Types and loops\n",
    "## Primitives: str, int, float,  bool\n",
    "## Non primitives: lists, tuple, dictionaries and sets\n",
    "![loops](loops.png \"Loops\")\n"
   ],
   "id": "8b7370a8ca3bd468"
  },
  {
   "metadata": {},
   "cell_type": "markdown",
   "source": [
    "# In Python for loop is written by using following standard:\n",
    "```python\n",
    "for i in list|dict|collection:\n",
    "  print(i)\n",
    "```\n"
   ],
   "id": "16b89cd8a6425a86"
  },
  {
   "metadata": {
    "ExecuteTime": {
     "end_time": "2025-04-02T13:16:43.116404Z",
     "start_time": "2025-04-02T13:16:43.113947Z"
    }
   },
   "cell_type": "code",
   "source": [
    "car_list = [\"VW\", \"Toyota\", \"BMW\"]\n",
    "# Python provides function len to determine the length of a list, dict\n",
    "# Example: len(car_list) will return 3\n",
    "# Python provides range function, which is generator and generates countable elements from 0 to the length of a list exclusively\n",
    "# Example: range(len(car_list)) will return 0,1,2\n",
    "\n",
    "for i in range(3):\n",
    "    print(i)\n",
    "\n"
   ],
   "id": "6404a1f3948ca4a0",
   "outputs": [
    {
     "name": "stdout",
     "output_type": "stream",
     "text": [
      "0\n",
      "1\n",
      "2\n"
     ]
    }
   ],
   "execution_count": 85
  },
  {
   "metadata": {},
   "cell_type": "markdown",
   "source": "# Conditions\n",
   "id": "3736d858d4eabaa0"
  },
  {
   "metadata": {},
   "cell_type": "markdown",
   "source": "![If else](if_elif_else.png \"If Else\")",
   "id": "fd8e03c6a377ef86"
  },
  {
   "metadata": {
    "ExecuteTime": {
     "end_time": "2025-04-02T13:16:43.131180Z",
     "start_time": "2025-04-02T13:16:43.128761Z"
    }
   },
   "cell_type": "code",
   "source": [
    "design_patterns = [\"decorator\", \"builder\", \"observer\", \"fasade\", \"factory\"]\n",
    "for i in design_patterns:\n",
    "    if i == \"builder\":\n",
    "        print(\"Builder pattern\")\n",
    "    elif i == \"factory\":\n",
    "        print(\"Factory creates objects\")\n",
    "    else:\n",
    "        print(\"Fasade hides complexioty of the implementation while observer observe the state change of an object\")"
   ],
   "id": "95898e29c7a6f51b",
   "outputs": [
    {
     "name": "stdout",
     "output_type": "stream",
     "text": [
      "Fasade hides complexioty of the implementation while observer observe the state change of an object\n",
      "Builder pattern\n",
      "Fasade hides complexioty of the implementation while observer observe the state change of an object\n",
      "Fasade hides complexioty of the implementation while observer observe the state change of an object\n",
      "Factory creates objects\n"
     ]
    }
   ],
   "execution_count": 86
  },
  {
   "metadata": {},
   "cell_type": "markdown",
   "source": "![Else](else.png \"Else\")",
   "id": "918c8ea3979a2e6e"
  },
  {
   "metadata": {
    "ExecuteTime": {
     "end_time": "2025-04-02T13:16:43.149750Z",
     "start_time": "2025-04-02T13:16:43.147570Z"
    }
   },
   "cell_type": "code",
   "source": "#Task 1: Create a for loop to print toyota",
   "id": "55939de99cae61ba",
   "outputs": [],
   "execution_count": 87
  },
  {
   "metadata": {},
   "cell_type": "markdown",
   "source": [
    "# Python Dictionary\n",
    "![Dictionary](dict.png \"Dictionary python\")\n"
   ],
   "id": "c54cb0f2028e1c38"
  },
  {
   "metadata": {
    "ExecuteTime": {
     "end_time": "2025-04-02T13:16:43.157406Z",
     "start_time": "2025-04-02T13:16:43.155478Z"
    }
   },
   "cell_type": "code",
   "source": [
    "salaries_dict = {\n",
    "    \"ProbkoTestov\": {\n",
    "        \"salary\": 1000,\n",
    "        \"experience\": 1,\n",
    "        \"technologies\": [\"AWS\", \"Python\"]\n",
    "    },\n",
    "    \"Antoaneta\": {\n",
    "        \"salary\":2000,\n",
    "        \"experience\": 3000,\n",
    "        \"technologies\": [\"SQL\", \"Python\"]\n",
    "    },\n",
    "    \"Ivailo\":{\n",
    "        \"salary\":4000,\n",
    "        \"experience\":20,\n",
    "        \"technologies\": [\"SQL\", \"AWS\"]\n",
    "    }\n",
    "}\n",
    "\n"
   ],
   "id": "5c081be3e9b8a878",
   "outputs": [],
   "execution_count": 88
  },
  {
   "metadata": {
    "ExecuteTime": {
     "end_time": "2025-04-02T13:16:43.163559Z",
     "start_time": "2025-04-02T13:16:43.162076Z"
    }
   },
   "cell_type": "code",
   "source": "#Task 2: Find the person that knows AWS as technology and has salary higher than 1001\n",
   "id": "165bf689e02c3c21",
   "outputs": [],
   "execution_count": 89
  },
  {
   "metadata": {},
   "cell_type": "markdown",
   "source": [
    "# Python class\n",
    "![Class](class.png \"Python class\")\n",
    "![Class 2 example](class2.png \"Python class 2\")"
   ],
   "id": "37169ecad01a30d8"
  },
  {
   "metadata": {
    "ExecuteTime": {
     "end_time": "2025-04-02T13:16:43.182666Z",
     "start_time": "2025-04-02T13:16:43.178149Z"
    }
   },
   "cell_type": "code",
   "source": [
    "class Car:\n",
    "  def __init__(self, brand, model):\n",
    "    self.brand = brand\n",
    "    self.model = model\n",
    "\n",
    "  def move(self):\n",
    "    print(\"Drive!\")\n",
    "\n",
    "class Boat:\n",
    "  def __init__(self, brand, model):\n",
    "    self.brand = brand\n",
    "    self.model = model\n",
    "\n",
    "  def move(self):\n",
    "    print(\"Sail!\")\n",
    "\n",
    "class Plane:\n",
    "  def __init__(self, brand, model):\n",
    "    self.brand = brand\n",
    "    self.model = model\n",
    "\n",
    "  def move(self):\n",
    "    print(\"Fly!\")\n",
    "\n",
    "car1 = Car(\"Ford\", \"Mustang\")       #Create a Car object\n",
    "boat1 = Boat(\"Ibiza\", \"Touring 20\") #Create a Boat object\n",
    "plane1 = Plane(\"Boeing\", \"747\")     #Create a Plane object\n",
    "\n",
    "for x in (car1, boat1, plane1):\n",
    "  x.move()"
   ],
   "id": "956d7eded7cece83",
   "outputs": [
    {
     "name": "stdout",
     "output_type": "stream",
     "text": [
      "Drive!\n",
      "Sail!\n",
      "Fly!\n"
     ]
    }
   ],
   "execution_count": 90
  },
  {
   "metadata": {
    "ExecuteTime": {
     "end_time": "2025-04-02T13:16:45.226482Z",
     "start_time": "2025-04-02T13:16:43.204495Z"
    }
   },
   "cell_type": "code",
   "source": [
    "import boto3\n",
    "client = boto3.client(\"ec2\", region_name=\"eu-west-1\")\n",
    "print(\"Type of EC2\", type(client))\n",
    "print(f\"Is class {inspect.isclass(type(client))}\") # usage of factory pattern\n",
    "print(f\"Methods available in class Plane: {[method for method in dir(plane1) if not method.startswith(\"__\")]}\")\n",
    "\n",
    "\n",
    "\n"
   ],
   "id": "6c7cfe928deeda03",
   "outputs": [
    {
     "name": "stdout",
     "output_type": "stream",
     "text": [
      "Type of EC2 <class 'botocore.client.EC2'>\n",
      "Is class True\n",
      "Methods available in class Plane: ['brand', 'model', 'move']\n"
     ]
    }
   ],
   "execution_count": 91
  },
  {
   "metadata": {},
   "cell_type": "markdown",
   "source": [
    "Multiple inheritance\n",
    "![Multiple inheritance](multiple_inheritance.png \"Multiple inheritance\")\n",
    "Method Resolution Order (MRO) in Python\n",
    "In Python, Method Resolution Order (MRO) determines the sequence in which base classes are looked up when searching for a method or attribute. This is particularly important in multiple inheritance, where a class can inherit from multiple parent classes.\n",
    "\n",
    "1. Why MRO Exists\n",
    "MRO is necessary to:\n",
    "\n",
    "Ensure that a method is called from the correct superclass.\n",
    "\n",
    "Prevent duplicate method execution (Diamond Problem).\n",
    "\n",
    "Maintain a predictable and logical class hierarchy.\n",
    "\n",
    "2. How Python Determines MRO\n",
    "Python uses the C3 Linearization (C3 MRO) algorithm to resolve method order in multiple inheritance. This ensures:\n",
    "\n",
    "A consistent order in which classes are searched.\n",
    "\n",
    "Parents appear before their children (except when overridden by another parent).\n",
    "\n",
    "No class is visited twice in a single inheritance path.\n",
    "\n",
    "3. Accessing MRO in Python\n",
    "You can check the MRO of a class using:\n",
    "\n",
    "The .__mro__ attribute.\n",
    "\n",
    "The mro() method.\n",
    "\n",
    "The inspect.getmro() function from the inspect module.\n",
    "\n",
    "python\n",
    "Copy\n",
    "Edit\n",
    "class A: pass\n",
    "class B(A): pass\n",
    "class C(A): pass\n",
    "class D(B, C): pass\n",
    "\n",
    "print(D.mro())  # Outputs the method resolution order\n",
    "print(D.__mro__)  # Alternative way to check MRO\n",
    "Output:\n",
    "\n",
    "python\n",
    "Copy\n",
    "Edit\n",
    "[<class '__main__.D'>, <class '__main__.B'>, <class '__main__.C'>, <class '__main__.A'>, <class 'object'>]\n",
    "This means Python will search for methods in this order:\n",
    "\n",
    "D\n",
    "\n",
    "B\n",
    "\n",
    "C\n",
    "\n",
    "A\n",
    "\n",
    "object\n",
    "\n",
    "\n",
    "4. The Diamond Problem\n",
    "The diamond problem occurs when a class inherits from two classes that share a common ancestor."
   ],
   "id": "7f093fc8a2bf238e"
  },
  {
   "metadata": {
    "ExecuteTime": {
     "end_time": "2025-04-02T13:16:45.243219Z",
     "start_time": "2025-04-02T13:16:45.239789Z"
    }
   },
   "cell_type": "code",
   "source": [
    "class A:\n",
    "    def show(self):\n",
    "        print(\"A\")\n",
    "\n",
    "class B(A):\n",
    "    def show(self):\n",
    "        print(\"B\")\n",
    "\n",
    "class C(A):\n",
    "    def show(self):\n",
    "        print(\"C\")\n",
    "\n",
    "class D(B, C):\n",
    "    pass\n",
    "\n",
    "d = D()\n",
    "d.show()\n",
    "print(f\"{type(client).__mro__}\")"
   ],
   "id": "4acfd0ed88e4c753",
   "outputs": [
    {
     "name": "stdout",
     "output_type": "stream",
     "text": [
      "B\n",
      "(<class 'botocore.client.EC2'>, <class 'botocore.client.BaseClient'>, <class 'object'>)\n"
     ]
    }
   ],
   "execution_count": 92
  },
  {
   "metadata": {
    "ExecuteTime": {
     "end_time": "2025-04-02T13:16:45.263470Z",
     "start_time": "2025-04-02T13:16:45.259811Z"
    }
   },
   "cell_type": "code",
   "source": "dir(Plane)",
   "id": "257026ee0381fd8",
   "outputs": [
    {
     "data": {
      "text/plain": [
       "['__class__',\n",
       " '__delattr__',\n",
       " '__dict__',\n",
       " '__dir__',\n",
       " '__doc__',\n",
       " '__eq__',\n",
       " '__firstlineno__',\n",
       " '__format__',\n",
       " '__ge__',\n",
       " '__getattribute__',\n",
       " '__getstate__',\n",
       " '__gt__',\n",
       " '__hash__',\n",
       " '__init__',\n",
       " '__init_subclass__',\n",
       " '__le__',\n",
       " '__lt__',\n",
       " '__module__',\n",
       " '__ne__',\n",
       " '__new__',\n",
       " '__reduce__',\n",
       " '__reduce_ex__',\n",
       " '__repr__',\n",
       " '__setattr__',\n",
       " '__sizeof__',\n",
       " '__static_attributes__',\n",
       " '__str__',\n",
       " '__subclasshook__',\n",
       " '__weakref__',\n",
       " 'move']"
      ]
     },
     "execution_count": 93,
     "metadata": {},
     "output_type": "execute_result"
    }
   ],
   "execution_count": 93
  },
  {
   "metadata": {
    "ExecuteTime": {
     "end_time": "2025-04-02T13:16:45.283342Z",
     "start_time": "2025-04-02T13:16:45.281510Z"
    }
   },
   "cell_type": "code",
   "source": "## Task 3:  Find all ec2 class get and describe methods",
   "id": "daa822747c51a2fa",
   "outputs": [],
   "execution_count": 94
  },
  {
   "metadata": {},
   "cell_type": "markdown",
   "source": [
    "# Difference between Resource and Client in boto3\n",
    "## Client:\n",
    "\n",
    "Low-Level Interface: Provides direct access to AWS service APIs.\n",
    "Detailed Control: Offers fine-grained control over API calls.\n",
    "Response Handling: Typically returns raw API responses, often in the form of dictionaries, requiring manual parsing.\n",
    "Use Case: Suitable for complex or specific tasks where detailed control is necessary.\n",
    "\n",
    "```python\n",
    "import boto3\n",
    "s3_client = boto3.client('s3')\n",
    "response = s3_client.list_buckets()\n",
    "for bucket in response['Buckets']:\n",
    "    print(bucket['Name'])\n",
    "```\n",
    "\n",
    "## Resource:\n",
    "\n",
    "High-Level Interface: Provides an object-oriented abstraction over AWS services.\n",
    "Simplified Interactions: Abstracts away many of the underlying API details, making it easier to use.\n",
    "Automatic Handling: Automatically handles data marshalling and pagination.\n",
    "Use Case: Ideal for common tasks and simpler interactions with AWS services.\n",
    "\n",
    "```python\n",
    "import boto3\n",
    "s3_resource = boto3.resource('s3')\n",
    "for bucket in s3_resource.buckets.all():\n",
    "    print(bucket.name)\n",
    "\n",
    "```\n",
    "\n",
    "\n",
    "\n",
    "\n",
    "\n"
   ],
   "id": "f66f06ba7471c1eb"
  },
  {
   "metadata": {
    "ExecuteTime": {
     "end_time": "2025-04-02T13:16:45.300680Z",
     "start_time": "2025-04-02T13:16:45.298686Z"
    }
   },
   "cell_type": "code",
   "source": [
    "## Task 4\n",
    "### 1. Set AWS credentials via aws config\n",
    "### 2. Find or describe all EC2 instances, that are in running state and save the instance ids in list\n",
    "### 3. Stop all EC2 instances that are in running state\n",
    "### 4. If we trigger the script again: Start all instances that are in running state"
   ],
   "id": "31343afc56d5eb74",
   "outputs": [],
   "execution_count": 95
  },
  {
   "metadata": {
    "ExecuteTime": {
     "end_time": "2025-04-02T13:16:45.305409Z",
     "start_time": "2025-04-02T13:16:45.304081Z"
    }
   },
   "cell_type": "code",
   "source": "",
   "id": "e79f0b991561670c",
   "outputs": [],
   "execution_count": null
  }
 ],
 "metadata": {
  "kernelspec": {
   "display_name": "Python 3",
   "language": "python",
   "name": "python3"
  },
  "language_info": {
   "codemirror_mode": {
    "name": "ipython",
    "version": 2
   },
   "file_extension": ".py",
   "mimetype": "text/x-python",
   "name": "python",
   "nbconvert_exporter": "python",
   "pygments_lexer": "ipython2",
   "version": "2.7.6"
  }
 },
 "nbformat": 4,
 "nbformat_minor": 5
}
