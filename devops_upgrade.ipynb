{
 "cells": [
  {
   "metadata": {},
   "cell_type": "markdown",
   "source": [
    "# Variables and Types\n",
    "![Variables inside python3](garbage.png \"Variables\")"
   ],
   "id": "8a77807f92f26ee"
  },
  {
   "metadata": {
    "ExecuteTime": {
     "end_time": "2025-03-31T13:35:31.113078Z",
     "start_time": "2025-03-31T13:35:31.109561Z"
    }
   },
   "cell_type": "code",
   "source": [
    "import inspect\n",
    "import math\n",
    "\n",
    "\n",
    "age = \"20\"\n",
    "print(f\"Type of age is: {type(age)}\")\n",
    "age = 20\n",
    "print(f\"Type of age is: {type(age)}\")\n",
    "checkEngineLight=True\n",
    "print(f\"Type of checkEngineLight is: {type(checkEngineLight)}\")\n",
    "print(f\"Type of pi is {type(math.pi)}\")"
   ],
   "id": "fbc121e30a2defb3",
   "outputs": [
    {
     "name": "stdout",
     "output_type": "stream",
     "text": [
      "Type of age is: <class 'str'>\n",
      "Type of age is: <class 'int'>\n",
      "Type of checkEngineLight is: <class 'bool'>\n",
      "Type of pi is <class 'float'>\n"
     ]
    }
   ],
   "execution_count": 50
  },
  {
   "metadata": {},
   "cell_type": "markdown",
   "source": [
    "## Types and loops\n",
    "## Primitives: str, int, float,  bool\n",
    "## Non primitives: lists, tuple, dictionaries and sets\n",
    "![loops](loop.png \"Loops\")\n"
   ],
   "id": "8b7370a8ca3bd468"
  },
  {
   "metadata": {},
   "cell_type": "markdown",
   "source": [
    "# In Python for loop is written by using following standard:\n",
    "```python\n",
    "for i in list|dict|collection:\n",
    "  print(i)\n",
    "```\n"
   ],
   "id": "16b89cd8a6425a86"
  },
  {
   "metadata": {
    "ExecuteTime": {
     "end_time": "2025-03-31T13:35:31.129939Z",
     "start_time": "2025-03-31T13:35:31.127027Z"
    }
   },
   "cell_type": "code",
   "source": [
    "car_list = [\"VW\", \"Toyota\", \"BMW\"]\n",
    "# Python provides function len to determine the length of a list, dict\n",
    "# Example: len(car_list) will return 3\n",
    "# Python provides range function, which is generator and generates countable elements from 0 to the length of a list exclusively\n",
    "# Example: range(len(car_list)) will return 0,1,2\n",
    "\n",
    "for i in range(3):\n",
    "    print(i)\n",
    "\n"
   ],
   "id": "6404a1f3948ca4a0",
   "outputs": [
    {
     "name": "stdout",
     "output_type": "stream",
     "text": [
      "0\n",
      "1\n",
      "2\n"
     ]
    }
   ],
   "execution_count": 51
  },
  {
   "metadata": {},
   "cell_type": "markdown",
   "source": "# Conditions\n",
   "id": "3736d858d4eabaa0"
  },
  {
   "metadata": {},
   "cell_type": "markdown",
   "source": "![If else](if_elif_else.png \"If Else\")",
   "id": "fd8e03c6a377ef86"
  },
  {
   "metadata": {
    "ExecuteTime": {
     "end_time": "2025-03-31T13:35:31.143833Z",
     "start_time": "2025-03-31T13:35:31.141320Z"
    }
   },
   "cell_type": "code",
   "source": [
    "design_patterns = [\"decorator\", \"builder\", \"observer\", \"fasade\", \"factory\"]\n",
    "for i in design_patterns:\n",
    "    if i == \"builder\":\n",
    "        print(\"Builder pattern\")\n",
    "    elif i == \"factory\":\n",
    "        print(\"Factory creates objects\")\n",
    "    else:\n",
    "        print(\"Fasade hides complexioty of the implementation while observer observe the state change of an object\")"
   ],
   "id": "95898e29c7a6f51b",
   "outputs": [
    {
     "name": "stdout",
     "output_type": "stream",
     "text": [
      "Fasade hides complexioty of the implementation while observer observe the state change of an object\n",
      "Builder pattern\n",
      "Fasade hides complexioty of the implementation while observer observe the state change of an object\n",
      "Fasade hides complexioty of the implementation while observer observe the state change of an object\n",
      "Factory creates objects\n"
     ]
    }
   ],
   "execution_count": 52
  },
  {
   "metadata": {},
   "cell_type": "markdown",
   "source": "![Else](else.png \"Else\")",
   "id": "918c8ea3979a2e6e"
  },
  {
   "metadata": {
    "ExecuteTime": {
     "end_time": "2025-03-31T13:35:31.158825Z",
     "start_time": "2025-03-31T13:35:31.157157Z"
    }
   },
   "cell_type": "code",
   "source": "#Task 1: Create a for loop to print toyota",
   "id": "55939de99cae61ba",
   "outputs": [],
   "execution_count": 53
  },
  {
   "metadata": {},
   "cell_type": "markdown",
   "source": [
    "# Python Dictionary\n",
    "![Dictionary](dict.png \"Dictionary python\")\n"
   ],
   "id": "c54cb0f2028e1c38"
  },
  {
   "metadata": {
    "ExecuteTime": {
     "end_time": "2025-03-31T13:35:31.168079Z",
     "start_time": "2025-03-31T13:35:31.166270Z"
    }
   },
   "cell_type": "code",
   "source": [
    "salaries_dict = {\n",
    "    \"ProbkoTestov\": {\n",
    "        \"salary\": 1000,\n",
    "        \"experience\": 1,\n",
    "        \"technologies\": [\"AWS\", \"Python\"]\n",
    "    },\n",
    "    \"Antoaneta\": {\n",
    "        \"salary\":2000,\n",
    "        \"experience\": 3000,\n",
    "        \"technologies\": [\"SQL\", \"Python\"]\n",
    "    },\n",
    "    \"Ivailo\":{\n",
    "        \"salary\":4000,\n",
    "        \"experience\":20,\n",
    "        \"technologies\": [\"SQL\", \"AWS\"]\n",
    "    }\n",
    "}\n",
    "\n"
   ],
   "id": "5c081be3e9b8a878",
   "outputs": [],
   "execution_count": 54
  },
  {
   "metadata": {
    "ExecuteTime": {
     "end_time": "2025-03-31T13:35:31.171711Z",
     "start_time": "2025-03-31T13:35:31.170189Z"
    }
   },
   "cell_type": "code",
   "source": "#Task 2: Find the person that knows AWS as technology and has salary higher than 1001\n",
   "id": "165bf689e02c3c21",
   "outputs": [],
   "execution_count": 55
  },
  {
   "metadata": {},
   "cell_type": "markdown",
   "source": [
    "# Python class\n",
    "![Class](class.png \"Python class\")\n",
    "![Class 2 example](class2.png \"Python class 2\")"
   ],
   "id": "37169ecad01a30d8"
  },
  {
   "metadata": {
    "ExecuteTime": {
     "end_time": "2025-03-31T13:35:31.178432Z",
     "start_time": "2025-03-31T13:35:31.175884Z"
    }
   },
   "cell_type": "code",
   "source": [
    "class Car:\n",
    "  def __init__(self, brand, model):\n",
    "    self.brand = brand\n",
    "    self.model = model\n",
    "\n",
    "  def move(self):\n",
    "    print(\"Drive!\")\n",
    "\n",
    "class Boat:\n",
    "  def __init__(self, brand, model):\n",
    "    self.brand = brand\n",
    "    self.model = model\n",
    "\n",
    "  def move(self):\n",
    "    print(\"Sail!\")\n",
    "\n",
    "class Plane:\n",
    "  def __init__(self, brand, model):\n",
    "    self.brand = brand\n",
    "    self.model = model\n",
    "\n",
    "  def move(self):\n",
    "    print(\"Fly!\")\n",
    "\n",
    "car1 = Car(\"Ford\", \"Mustang\")       #Create a Car object\n",
    "boat1 = Boat(\"Ibiza\", \"Touring 20\") #Create a Boat object\n",
    "plane1 = Plane(\"Boeing\", \"747\")     #Create a Plane object\n",
    "\n",
    "for x in (car1, boat1, plane1):\n",
    "  x.move()"
   ],
   "id": "956d7eded7cece83",
   "outputs": [
    {
     "name": "stdout",
     "output_type": "stream",
     "text": [
      "Drive!\n",
      "Sail!\n",
      "Fly!\n"
     ]
    }
   ],
   "execution_count": 56
  },
  {
   "metadata": {
    "ExecuteTime": {
     "end_time": "2025-03-31T13:35:31.197366Z",
     "start_time": "2025-03-31T13:35:31.189068Z"
    }
   },
   "cell_type": "code",
   "source": [
    "import boto3\n",
    "client = boto3.client(\"ec2\", region_name=\"eu-west-1\")\n",
    "print(\"Type of EC2\", type(client))\n",
    "print(f\"Is class {inspect.isclass(type(client))}\") # usage of factory pattern\n",
    "print(f\"Methods available in class Plane: {[method for method in dir(plane1) if not method.startswith(\"__\")]}\")\n",
    "print(f\"{type(client).__mro__}\")"
   ],
   "id": "6c7cfe928deeda03",
   "outputs": [
    {
     "name": "stdout",
     "output_type": "stream",
     "text": [
      "Type of EC2 <class 'botocore.client.EC2'>\n",
      "Is class True\n",
      "Methods available in class Plane: ['brand', 'model', 'move']\n",
      "(<class 'botocore.client.EC2'>, <class 'botocore.client.BaseClient'>, <class 'object'>)\n"
     ]
    }
   ],
   "execution_count": 57
  },
  {
   "metadata": {},
   "cell_type": "markdown",
   "source": [
    "Multiple inheritance\n",
    "![Multiple inheritance](multiple_inheritance.png \"Multiple inheritance\")"
   ],
   "id": "7f093fc8a2bf238e"
  },
  {
   "metadata": {
    "ExecuteTime": {
     "end_time": "2025-03-31T13:35:31.209619Z",
     "start_time": "2025-03-31T13:35:31.207558Z"
    }
   },
   "cell_type": "code",
   "source": "dir(Plane)",
   "id": "257026ee0381fd8",
   "outputs": [
    {
     "data": {
      "text/plain": [
       "['__class__',\n",
       " '__delattr__',\n",
       " '__dict__',\n",
       " '__dir__',\n",
       " '__doc__',\n",
       " '__eq__',\n",
       " '__firstlineno__',\n",
       " '__format__',\n",
       " '__ge__',\n",
       " '__getattribute__',\n",
       " '__getstate__',\n",
       " '__gt__',\n",
       " '__hash__',\n",
       " '__init__',\n",
       " '__init_subclass__',\n",
       " '__le__',\n",
       " '__lt__',\n",
       " '__module__',\n",
       " '__ne__',\n",
       " '__new__',\n",
       " '__reduce__',\n",
       " '__reduce_ex__',\n",
       " '__repr__',\n",
       " '__setattr__',\n",
       " '__sizeof__',\n",
       " '__static_attributes__',\n",
       " '__str__',\n",
       " '__subclasshook__',\n",
       " '__weakref__',\n",
       " 'move']"
      ]
     },
     "execution_count": 58,
     "metadata": {},
     "output_type": "execute_result"
    }
   ],
   "execution_count": 58
  },
  {
   "metadata": {
    "ExecuteTime": {
     "end_time": "2025-03-31T13:35:31.227956Z",
     "start_time": "2025-03-31T13:35:31.226056Z"
    }
   },
   "cell_type": "code",
   "source": "## Task 3:  Find all ec2 class get and describe methods",
   "id": "daa822747c51a2fa",
   "outputs": [],
   "execution_count": 59
  },
  {
   "metadata": {},
   "cell_type": "markdown",
   "source": [
    "# Difference between Resource and Client in boto3\n",
    "## Client:\n",
    "\n",
    "Low-Level Interface: Provides direct access to AWS service APIs.\n",
    "Detailed Control: Offers fine-grained control over API calls.\n",
    "Response Handling: Typically returns raw API responses, often in the form of dictionaries, requiring manual parsing.\n",
    "Use Case: Suitable for complex or specific tasks where detailed control is necessary.\n",
    "\n",
    "```python\n",
    "import boto3\n",
    "s3_client = boto3.client('s3')\n",
    "response = s3_client.list_buckets()\n",
    "for bucket in response['Buckets']:\n",
    "    print(bucket['Name'])\n",
    "```\n",
    "\n",
    "## Resource:\n",
    "\n",
    "High-Level Interface: Provides an object-oriented abstraction over AWS services.\n",
    "Simplified Interactions: Abstracts away many of the underlying API details, making it easier to use.\n",
    "Automatic Handling: Automatically handles data marshalling and pagination.\n",
    "Use Case: Ideal for common tasks and simpler interactions with AWS services.\n",
    "\n",
    "```python\n",
    "import boto3\n",
    "s3_resource = boto3.resource('s3')\n",
    "for bucket in s3_resource.buckets.all():\n",
    "    print(bucket.name)\n",
    "\n",
    "```\n",
    "\n",
    "\n",
    "\n",
    "\n",
    "\n"
   ],
   "id": "f66f06ba7471c1eb"
  },
  {
   "metadata": {
    "ExecuteTime": {
     "end_time": "2025-03-31T13:35:31.241525Z",
     "start_time": "2025-03-31T13:35:31.239732Z"
    }
   },
   "cell_type": "code",
   "source": [
    "## Task 4\n",
    "### 1. Set AWS credentials via aws config\n",
    "### 2. Find or describe all EC2 instances, that are in running state and save the instance ids in list\n",
    "### 3. Stop all EC2 instances that are in running state\n",
    "### 4. If we trigger the script again: Start all instances that are in running state"
   ],
   "id": "31343afc56d5eb74",
   "outputs": [],
   "execution_count": 60
  },
  {
   "metadata": {
    "ExecuteTime": {
     "end_time": "2025-03-31T13:35:31.247937Z",
     "start_time": "2025-03-31T13:35:31.246635Z"
    }
   },
   "cell_type": "code",
   "source": "",
   "id": "e79f0b991561670c",
   "outputs": [],
   "execution_count": null
  }
 ],
 "metadata": {
  "kernelspec": {
   "display_name": "Python 3",
   "language": "python",
   "name": "python3"
  },
  "language_info": {
   "codemirror_mode": {
    "name": "ipython",
    "version": 2
   },
   "file_extension": ".py",
   "mimetype": "text/x-python",
   "name": "python",
   "nbconvert_exporter": "python",
   "pygments_lexer": "ipython2",
   "version": "2.7.6"
  }
 },
 "nbformat": 4,
 "nbformat_minor": 5
}
